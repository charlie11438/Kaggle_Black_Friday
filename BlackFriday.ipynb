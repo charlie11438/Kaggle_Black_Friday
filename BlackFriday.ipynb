{
 "cells": [
  {
   "cell_type": "markdown",
   "metadata": {},
   "source": [
    "# Kaggle-Black Friday dataset\n",
    "\n",
    "## 2019-04-11 start"
   ]
  },
  {
   "cell_type": "markdown",
   "metadata": {},
   "source": [
    "## Summary\n",
    "\n",
    "- Data is dispersion\n",
    "\n",
    "\n",
    "- Mode of data is 6,855\n",
    "\n",
    "\n",
    "- percentage of each age\n",
    "\n",
    "\n",
    "Age | percentage\n",
    "---- | --------------- |\n",
    "0-17 | 2.64% |\n",
    "18-25 | 17.97% |\n",
    "26-35 | 39.85% |\n",
    "36-45 | 20.14% |\n",
    "46-50 | 8.24% |\n",
    "51-55 | 7.21% |\n",
    "55+ | 3.94% |\n",
    "\n",
    "\n",
    "- 26-35 has more consumption than other age\n",
    "\n",
    "\n",
    "- Male has more consumption than female,which accounts for 76.79 percent of purchase amount\n",
    "\n",
    "\n",
    "- The correlation of features are weak\n",
    "\n",
    "\n",
    "- Using pca data may better than choosing features to train models \n",
    "\n",
    "\n",
    "- Using Gradient Boosting Regressor may be better than Decision Tree Regressor"
   ]
  },
  {
   "cell_type": "code",
   "execution_count": 63,
   "metadata": {},
   "outputs": [],
   "source": [
    "import numpy as np\n",
    "import pandas as pd\n",
    "import matplotlib.pyplot as plt\n",
    "import seaborn as sns\n",
    "from sklearn.model_selection import train_test_split\n",
    "from sklearn.decomposition import PCA\n",
    "from sklearn.tree import DecisionTreeRegressor\n",
    "from sklearn.ensemble import GradientBoostingRegressor\n",
    "from sklearn.metrics import mean_squared_error,mean_absolute_error,r2_score\n",
    "sns.set()"
   ]
  },
  {
   "cell_type": "code",
   "execution_count": 3,
   "metadata": {},
   "outputs": [],
   "source": [
    "original=pd.read_csv('./BlackFriday.csv')"
   ]
  },
  {
   "cell_type": "code",
   "execution_count": 4,
   "metadata": {},
   "outputs": [
    {
     "name": "stdout",
     "output_type": "stream",
     "text": [
      "   User_ID Product_ID Gender   Age  Occupation City_Category  \\\n",
      "0  1000001  P00069042      F  0-17          10             A   \n",
      "1  1000001  P00248942      F  0-17          10             A   \n",
      "2  1000001  P00087842      F  0-17          10             A   \n",
      "3  1000001  P00085442      F  0-17          10             A   \n",
      "4  1000002  P00285442      M   55+          16             C   \n",
      "\n",
      "  Stay_In_Current_City_Years  Marital_Status  Product_Category_1  \\\n",
      "0                          2               0                   3   \n",
      "1                          2               0                   1   \n",
      "2                          2               0                  12   \n",
      "3                          2               0                  12   \n",
      "4                         4+               0                   8   \n",
      "\n",
      "   Product_Category_2  Product_Category_3  Purchase  \n",
      "0                 NaN                 NaN      8370  \n",
      "1                 6.0                14.0     15200  \n",
      "2                 NaN                 NaN      1422  \n",
      "3                14.0                 NaN      1057  \n",
      "4                 NaN                 NaN      7969  \n",
      "(537577, 12)\n",
      "User_ID                            0\n",
      "Product_ID                         0\n",
      "Gender                             0\n",
      "Age                                0\n",
      "Occupation                         0\n",
      "City_Category                      0\n",
      "Stay_In_Current_City_Years         0\n",
      "Marital_Status                     0\n",
      "Product_Category_1                 0\n",
      "Product_Category_2            166986\n",
      "Product_Category_3            373299\n",
      "Purchase                           0\n",
      "dtype: int64\n",
      "User_ID                         int64\n",
      "Product_ID                     object\n",
      "Gender                         object\n",
      "Age                            object\n",
      "Occupation                      int64\n",
      "City_Category                  object\n",
      "Stay_In_Current_City_Years     object\n",
      "Marital_Status                  int64\n",
      "Product_Category_1              int64\n",
      "Product_Category_2            float64\n",
      "Product_Category_3            float64\n",
      "Purchase                        int64\n",
      "dtype: object\n"
     ]
    }
   ],
   "source": [
    "print(original.head())\n",
    "print(original.shape)\n",
    "print(original.isnull().sum())\n",
    "print(original.dtypes)"
   ]
  },
  {
   "cell_type": "markdown",
   "metadata": {},
   "source": [
    "## Question definition\n",
    "\n",
    "- What is the percentage of every age?\n",
    "\n",
    "\n",
    "- Which age range is the most group of consumption?\n",
    "\n",
    "\n",
    "- Male or Female has most consumption?\n",
    "\n",
    "\n",
    "- With using machine learning,can we predict purchase amount?"
   ]
  },
  {
   "cell_type": "markdown",
   "metadata": {},
   "source": [
    "## Data preprocessing"
   ]
  },
  {
   "cell_type": "code",
   "execution_count": 5,
   "metadata": {},
   "outputs": [],
   "source": [
    "original['User_ID']=original['User_ID'].astype('str')"
   ]
  },
  {
   "cell_type": "code",
   "execution_count": 6,
   "metadata": {},
   "outputs": [],
   "source": [
    "original['Product_Category_2']=original['Product_Category_2'].fillna(round(np.mean(original['Product_Category_2']),0))\n",
    "original['Product_Category_3']=original['Product_Category_3'].fillna(round(np.mean(original['Product_Category_3']),0))"
   ]
  },
  {
   "cell_type": "code",
   "execution_count": 7,
   "metadata": {},
   "outputs": [
    {
     "data": {
      "text/plain": [
       "User_ID                       0\n",
       "Product_ID                    0\n",
       "Gender                        0\n",
       "Age                           0\n",
       "Occupation                    0\n",
       "City_Category                 0\n",
       "Stay_In_Current_City_Years    0\n",
       "Marital_Status                0\n",
       "Product_Category_1            0\n",
       "Product_Category_2            0\n",
       "Product_Category_3            0\n",
       "Purchase                      0\n",
       "dtype: int64"
      ]
     },
     "execution_count": 7,
     "metadata": {},
     "output_type": "execute_result"
    }
   ],
   "source": [
    "original.isnull().sum()"
   ]
  },
  {
   "cell_type": "code",
   "execution_count": 8,
   "metadata": {},
   "outputs": [],
   "source": [
    "original['Product_Category_2']=original['Product_Category_2'].astype('str')\n",
    "original['Product_Category_3']=original['Product_Category_3'].astype('str')"
   ]
  },
  {
   "cell_type": "code",
   "execution_count": 9,
   "metadata": {},
   "outputs": [
    {
     "data": {
      "text/html": [
       "<div>\n",
       "<style scoped>\n",
       "    .dataframe tbody tr th:only-of-type {\n",
       "        vertical-align: middle;\n",
       "    }\n",
       "\n",
       "    .dataframe tbody tr th {\n",
       "        vertical-align: top;\n",
       "    }\n",
       "\n",
       "    .dataframe thead th {\n",
       "        text-align: right;\n",
       "    }\n",
       "</style>\n",
       "<table border=\"1\" class=\"dataframe\">\n",
       "  <thead>\n",
       "    <tr style=\"text-align: right;\">\n",
       "      <th></th>\n",
       "      <th>User_ID</th>\n",
       "      <th>Product_ID</th>\n",
       "      <th>Gender</th>\n",
       "      <th>Age</th>\n",
       "      <th>Occupation</th>\n",
       "      <th>City_Category</th>\n",
       "      <th>Stay_In_Current_City_Years</th>\n",
       "      <th>Marital_Status</th>\n",
       "      <th>Product_Category_1</th>\n",
       "      <th>Product_Category_2</th>\n",
       "      <th>Product_Category_3</th>\n",
       "      <th>Purchase</th>\n",
       "    </tr>\n",
       "  </thead>\n",
       "  <tbody>\n",
       "    <tr>\n",
       "      <th>0</th>\n",
       "      <td>1000001</td>\n",
       "      <td>P00069042</td>\n",
       "      <td>F</td>\n",
       "      <td>0-17</td>\n",
       "      <td>10</td>\n",
       "      <td>A</td>\n",
       "      <td>2</td>\n",
       "      <td>0</td>\n",
       "      <td>3</td>\n",
       "      <td>10.0</td>\n",
       "      <td>13.0</td>\n",
       "      <td>8370</td>\n",
       "    </tr>\n",
       "    <tr>\n",
       "      <th>1</th>\n",
       "      <td>1000001</td>\n",
       "      <td>P00248942</td>\n",
       "      <td>F</td>\n",
       "      <td>0-17</td>\n",
       "      <td>10</td>\n",
       "      <td>A</td>\n",
       "      <td>2</td>\n",
       "      <td>0</td>\n",
       "      <td>1</td>\n",
       "      <td>6.0</td>\n",
       "      <td>14.0</td>\n",
       "      <td>15200</td>\n",
       "    </tr>\n",
       "    <tr>\n",
       "      <th>2</th>\n",
       "      <td>1000001</td>\n",
       "      <td>P00087842</td>\n",
       "      <td>F</td>\n",
       "      <td>0-17</td>\n",
       "      <td>10</td>\n",
       "      <td>A</td>\n",
       "      <td>2</td>\n",
       "      <td>0</td>\n",
       "      <td>12</td>\n",
       "      <td>10.0</td>\n",
       "      <td>13.0</td>\n",
       "      <td>1422</td>\n",
       "    </tr>\n",
       "    <tr>\n",
       "      <th>3</th>\n",
       "      <td>1000001</td>\n",
       "      <td>P00085442</td>\n",
       "      <td>F</td>\n",
       "      <td>0-17</td>\n",
       "      <td>10</td>\n",
       "      <td>A</td>\n",
       "      <td>2</td>\n",
       "      <td>0</td>\n",
       "      <td>12</td>\n",
       "      <td>14.0</td>\n",
       "      <td>13.0</td>\n",
       "      <td>1057</td>\n",
       "    </tr>\n",
       "    <tr>\n",
       "      <th>4</th>\n",
       "      <td>1000002</td>\n",
       "      <td>P00285442</td>\n",
       "      <td>M</td>\n",
       "      <td>55+</td>\n",
       "      <td>16</td>\n",
       "      <td>C</td>\n",
       "      <td>4+</td>\n",
       "      <td>0</td>\n",
       "      <td>8</td>\n",
       "      <td>10.0</td>\n",
       "      <td>13.0</td>\n",
       "      <td>7969</td>\n",
       "    </tr>\n",
       "  </tbody>\n",
       "</table>\n",
       "</div>"
      ],
      "text/plain": [
       "   User_ID Product_ID Gender   Age  Occupation City_Category  \\\n",
       "0  1000001  P00069042      F  0-17          10             A   \n",
       "1  1000001  P00248942      F  0-17          10             A   \n",
       "2  1000001  P00087842      F  0-17          10             A   \n",
       "3  1000001  P00085442      F  0-17          10             A   \n",
       "4  1000002  P00285442      M   55+          16             C   \n",
       "\n",
       "  Stay_In_Current_City_Years  Marital_Status  Product_Category_1  \\\n",
       "0                          2               0                   3   \n",
       "1                          2               0                   1   \n",
       "2                          2               0                  12   \n",
       "3                          2               0                  12   \n",
       "4                         4+               0                   8   \n",
       "\n",
       "  Product_Category_2 Product_Category_3  Purchase  \n",
       "0               10.0               13.0      8370  \n",
       "1                6.0               14.0     15200  \n",
       "2               10.0               13.0      1422  \n",
       "3               14.0               13.0      1057  \n",
       "4               10.0               13.0      7969  "
      ]
     },
     "execution_count": 9,
     "metadata": {},
     "output_type": "execute_result"
    }
   ],
   "source": [
    "original.head()"
   ]
  },
  {
   "cell_type": "code",
   "execution_count": 10,
   "metadata": {},
   "outputs": [
    {
     "data": {
      "text/plain": [
       "User_ID                       object\n",
       "Product_ID                    object\n",
       "Gender                        object\n",
       "Age                           object\n",
       "Occupation                     int64\n",
       "City_Category                 object\n",
       "Stay_In_Current_City_Years    object\n",
       "Marital_Status                 int64\n",
       "Product_Category_1             int64\n",
       "Product_Category_2            object\n",
       "Product_Category_3            object\n",
       "Purchase                       int64\n",
       "dtype: object"
      ]
     },
     "execution_count": 10,
     "metadata": {},
     "output_type": "execute_result"
    }
   ],
   "source": [
    "original.dtypes"
   ]
  },
  {
   "cell_type": "markdown",
   "metadata": {},
   "source": [
    "## Describe Statistics--Purchase\n",
    "\n",
    "Find:\n",
    "\n",
    "- five-number summary(五數摘要)\n",
    "\n",
    "\n",
    "- skewness\n",
    "\n",
    "\n",
    "- kurtosis\n",
    "\n",
    "\n",
    "- coefficient of variation\n",
    "\n",
    "\n",
    "- mode\n",
    "\n",
    "\n",
    "- range\n"
   ]
  },
  {
   "cell_type": "code",
   "execution_count": 11,
   "metadata": {},
   "outputs": [
    {
     "data": {
      "text/plain": [
       "count    537577.000000\n",
       "mean       9333.859853\n",
       "std        4981.022133\n",
       "min         185.000000\n",
       "25%        5866.000000\n",
       "50%        8062.000000\n",
       "75%       12073.000000\n",
       "max       23961.000000\n",
       "Name: Purchase, dtype: float64"
      ]
     },
     "execution_count": 11,
     "metadata": {},
     "output_type": "execute_result"
    }
   ],
   "source": [
    "original['Purchase'].describe()"
   ]
  },
  {
   "cell_type": "code",
   "execution_count": 12,
   "metadata": {},
   "outputs": [],
   "source": [
    "def cv(data):\n",
    "    x=data.std()\n",
    "    y=data.mean()\n",
    "    coefficientofvariation=round((x/y)*100,4)\n",
    "    return coefficientofvariation"
   ]
  },
  {
   "cell_type": "code",
   "execution_count": 13,
   "metadata": {},
   "outputs": [
    {
     "name": "stdout",
     "output_type": "stream",
     "text": [
      "Purchase skewness: 0.6242797316083074\n",
      "Purchase kurtosis: -0.34312137256836284\n",
      "Purchase cv:53.37%\n",
      "Purchase mode: 0    6855\n",
      "dtype: int64\n",
      "Purchase range: 23776\n"
     ]
    }
   ],
   "source": [
    "print('Purchase skewness:',original['Purchase'].skew())\n",
    "print('Purchase kurtosis:',original['Purchase'].kurt())\n",
    "print('Purchase cv:%1.2f%%'%(cv(original['Purchase'])))\n",
    "print('Purchase mode:',original['Purchase'].mode())\n",
    "print('Purchase range:',original['Purchase'].max()-original['Purchase'].min())"
   ]
  },
  {
   "cell_type": "code",
   "execution_count": 14,
   "metadata": {},
   "outputs": [
    {
     "data": {
      "image/png": "[encoded data removed]",
      "text/plain": [
       "<Figure size 1080x1008 with 1 Axes>"
      ]
     },
     "metadata": {
      "needs_background": "light"
     },
     "output_type": "display_data"
    }
   ],
   "source": [
    "z1=plt.figure(figsize=(15,14))\n",
    "original['Purchase'].plot(kind='kde',title='Black Friday Purchase distribution plot')\n",
    "plt.text(-10000,0.00014,'std:%1.2f'%(original['Purchase'].std()))\n",
    "plt.savefig('./charts/purchase_distribution_plot.png')\n",
    "plt.show()"
   ]
  },
  {
   "cell_type": "markdown",
   "metadata": {},
   "source": [
    "## Summary\n",
    "\n",
    "- Standard deviation is large,coefficient of variation is 50 percent,\n",
    "  \n",
    "  and range of purchase is 23776,which means this data is dispersion.\n",
    "  \n",
    "  \n",
    "- Skewness value is 0.6,which is bigger than 0,means data distribution\n",
    "  \n",
    "  is skewed frequency distribution,and data is possitive distribution\n",
    "\n",
    "\n",
    "- Kurtosis value is -0.3,which is smaller than 0,means kurtosis is platykurtic\n",
    "\n",
    "\n",
    "- Data distribution is more distributed under mean of data\n",
    "\n",
    "\n",
    "- According to Central Limit Theroem,distribution is close to normal distribution"
   ]
  },
  {
   "cell_type": "markdown",
   "metadata": {},
   "source": [
    "## Age"
   ]
  },
  {
   "cell_type": "code",
   "execution_count": 15,
   "metadata": {},
   "outputs": [
    {
     "data": {
      "text/plain": [
       "Index(['User_ID', 'Product_ID', 'Gender', 'Age', 'Occupation', 'City_Category',\n",
       "       'Stay_In_Current_City_Years', 'Marital_Status', 'Product_Category_1',\n",
       "       'Product_Category_2', 'Product_Category_3', 'Purchase'],\n",
       "      dtype='object')"
      ]
     },
     "execution_count": 15,
     "metadata": {},
     "output_type": "execute_result"
    }
   ],
   "source": [
    "original.columns"
   ]
  },
  {
   "cell_type": "code",
   "execution_count": 16,
   "metadata": {},
   "outputs": [],
   "source": [
    "ageGroup=original.groupby(by='Age')\n",
    "ageam=ageGroup.sum()\n",
    "ageAmount=pd.DataFrame(ageam.loc[:,'Purchase'])"
   ]
  },
  {
   "cell_type": "code",
   "execution_count": 17,
   "metadata": {},
   "outputs": [
    {
     "data": {
      "image/png": "[encoded data removed]",
      "text/plain": [
       "<Figure size 1080x1008 with 1 Axes>"
      ]
     },
     "metadata": {},
     "output_type": "display_data"
    }
   ],
   "source": [
    "z2=plt.figure(figsize=(15,14))\n",
    "y=np.array(ageAmount['Purchase'])\n",
    "label=np.array(ageAmount.index)\n",
    "explode=[0.0,0.0,0.05,0.0,0.0,0.0,0.0]\n",
    "plt.pie(y,labels=label,explode=explode,autopct='%1.2f%%')\n",
    "plt.title('Black Friday purchase amount percentage by age pie chart',fontsize='large')\n",
    "plt.savefig('./charts/purchase_by_age_pie.png')\n",
    "plt.show()"
   ]
  },
  {
   "cell_type": "code",
   "execution_count": 18,
   "metadata": {},
   "outputs": [
    {
     "data": {
      "image/png": "[encoded data removed]",
      "text/plain": [
       "<Figure size 1080x1008 with 1 Axes>"
      ]
     },
     "metadata": {
      "needs_background": "light"
     },
     "output_type": "display_data"
    }
   ],
   "source": [
    "z3=ageAmount.plot.bar(figsize=(15,14),title='Black Friday purchase amount by age bar chart',legend=False)\n",
    "z3.get_figure()\n",
    "x=np.arange(ageAmount.index.shape[0])\n",
    "y=np.array(ageAmount['Purchase'])\n",
    "for i,j in zip(x,y):\n",
    "    plt.text(i,j+10000000,format(j,','),ha='center',color='blue')\n",
    "plt.xticks(range(ageAmount.index.shape[0]),ageAmount.index,rotation=0)\n",
    "plt.ylabel('Amount')\n",
    "plt.xlabel('Age')\n",
    "plt.savefig('./charts/purchase_by_age_bar.png')\n",
    "plt.show()"
   ]
  },
  {
   "cell_type": "markdown",
   "metadata": {},
   "source": [
    "## Summary\n",
    "\n",
    "\n",
    "- 26-35 has the highest proportion,\n",
    "\n",
    "  which accounts for 39.85 percent of Black Friday purchase amount\n",
    "  \n",
    "  \n",
    "- 36-45 has second higher proportion,\n",
    "\n",
    "  which accounts for 20.14 percent of Black Friday purchase amount\n",
    "  \n",
    "  \n",
    "- 55+ has more proportion than 0-17\n",
    "\n",
    "\n",
    "- 0-17 has least proportion,\n",
    "\n",
    "  which accounts for 2.64 percent of Black Friday purchase amout"
   ]
  },
  {
   "cell_type": "markdown",
   "metadata": {},
   "source": [
    "## Gender"
   ]
  },
  {
   "cell_type": "code",
   "execution_count": 19,
   "metadata": {},
   "outputs": [],
   "source": [
    "GenderGroup=original.groupby(by='Gender')\n",
    "Gendersum=GenderGroup.sum()\n",
    "GenderSum=pd.DataFrame(Gendersum.loc[:,'Purchase'])"
   ]
  },
  {
   "cell_type": "code",
   "execution_count": 20,
   "metadata": {},
   "outputs": [
    {
     "data": {
      "image/png": "[encoded data removed]",
      "text/plain": [
       "<Figure size 1080x1008 with 1 Axes>"
      ]
     },
     "metadata": {},
     "output_type": "display_data"
    }
   ],
   "source": [
    "z4=plt.figure(figsize=(15,14))\n",
    "labels=['Female','Male']\n",
    "explode=[0,0.05]\n",
    "y=np.array(GenderSum['Purchase'])\n",
    "plt.title('Black Friday purchase amount by gender pie chart',fontsize='large')\n",
    "plt.pie(y,labels=labels,explode=explode,autopct='%1.2f%%')\n",
    "plt.savefig('./charts/purchase_by_gender_pie.png')\n",
    "plt.show()"
   ]
  },
  {
   "cell_type": "code",
   "execution_count": 21,
   "metadata": {},
   "outputs": [
    {
     "data": {
      "image/png": "[encoded data removed]",
      "text/plain": [
       "<Figure size 1080x1008 with 1 Axes>"
      ]
     },
     "metadata": {
      "needs_background": "light"
     },
     "output_type": "display_data"
    }
   ],
   "source": [
    "z5=GenderSum.plot.bar(figsize=(15,14),legend=False,width=0.3)\n",
    "z5.get_figure()\n",
    "plt.title('Black Friday purchase amount by gender bar chart',fontsize='large')\n",
    "plt.xticks(range(2),['Female','Male'],rotation=0)\n",
    "x=np.arange(GenderSum.index.shape[0])\n",
    "y=np.array(GenderSum['Purchase'])\n",
    "for i,j in zip(x,y):\n",
    "    plt.text(i,j+10000000,format(j,','),ha='center',color='blue')\n",
    "else:\n",
    "    pass\n",
    "plt.savefig('./charts/purchase_by_gender_bar.png')\n",
    "plt.show()"
   ]
  },
  {
   "cell_type": "markdown",
   "metadata": {},
   "source": [
    "## Summary\n",
    "\n",
    "- Male's consumption is much more higher than female's\n",
    "\n",
    "\n",
    "- Male accounts for 76.79 percentage of Black Friday purchase amount\n",
    "\n",
    "\n",
    "- Female accounts for 23.21 percentage of Black Friday purchase amount\n",
    "\n",
    "\n",
    "- The deviation of male's consumption and female's consumption is about 2.7 ten million(dollars)"
   ]
  },
  {
   "cell_type": "markdown",
   "metadata": {},
   "source": [
    "## Predict"
   ]
  },
  {
   "cell_type": "markdown",
   "metadata": {},
   "source": [
    "## Data Preproccesing"
   ]
  },
  {
   "cell_type": "code",
   "execution_count": 22,
   "metadata": {},
   "outputs": [
    {
     "data": {
      "text/html": [
       "<div>\n",
       "<style scoped>\n",
       "    .dataframe tbody tr th:only-of-type {\n",
       "        vertical-align: middle;\n",
       "    }\n",
       "\n",
       "    .dataframe tbody tr th {\n",
       "        vertical-align: top;\n",
       "    }\n",
       "\n",
       "    .dataframe thead th {\n",
       "        text-align: right;\n",
       "    }\n",
       "</style>\n",
       "<table border=\"1\" class=\"dataframe\">\n",
       "  <thead>\n",
       "    <tr style=\"text-align: right;\">\n",
       "      <th></th>\n",
       "      <th>User_ID</th>\n",
       "      <th>Product_ID</th>\n",
       "      <th>Gender</th>\n",
       "      <th>Age</th>\n",
       "      <th>Occupation</th>\n",
       "      <th>City_Category</th>\n",
       "      <th>Stay_In_Current_City_Years</th>\n",
       "      <th>Marital_Status</th>\n",
       "      <th>Product_Category_1</th>\n",
       "      <th>Product_Category_2</th>\n",
       "      <th>Product_Category_3</th>\n",
       "      <th>Purchase</th>\n",
       "    </tr>\n",
       "  </thead>\n",
       "  <tbody>\n",
       "    <tr>\n",
       "      <th>0</th>\n",
       "      <td>1000001</td>\n",
       "      <td>P00069042</td>\n",
       "      <td>F</td>\n",
       "      <td>0-17</td>\n",
       "      <td>10</td>\n",
       "      <td>A</td>\n",
       "      <td>2</td>\n",
       "      <td>0</td>\n",
       "      <td>3</td>\n",
       "      <td>10.0</td>\n",
       "      <td>13.0</td>\n",
       "      <td>8370</td>\n",
       "    </tr>\n",
       "    <tr>\n",
       "      <th>1</th>\n",
       "      <td>1000001</td>\n",
       "      <td>P00248942</td>\n",
       "      <td>F</td>\n",
       "      <td>0-17</td>\n",
       "      <td>10</td>\n",
       "      <td>A</td>\n",
       "      <td>2</td>\n",
       "      <td>0</td>\n",
       "      <td>1</td>\n",
       "      <td>6.0</td>\n",
       "      <td>14.0</td>\n",
       "      <td>15200</td>\n",
       "    </tr>\n",
       "    <tr>\n",
       "      <th>2</th>\n",
       "      <td>1000001</td>\n",
       "      <td>P00087842</td>\n",
       "      <td>F</td>\n",
       "      <td>0-17</td>\n",
       "      <td>10</td>\n",
       "      <td>A</td>\n",
       "      <td>2</td>\n",
       "      <td>0</td>\n",
       "      <td>12</td>\n",
       "      <td>10.0</td>\n",
       "      <td>13.0</td>\n",
       "      <td>1422</td>\n",
       "    </tr>\n",
       "    <tr>\n",
       "      <th>3</th>\n",
       "      <td>1000001</td>\n",
       "      <td>P00085442</td>\n",
       "      <td>F</td>\n",
       "      <td>0-17</td>\n",
       "      <td>10</td>\n",
       "      <td>A</td>\n",
       "      <td>2</td>\n",
       "      <td>0</td>\n",
       "      <td>12</td>\n",
       "      <td>14.0</td>\n",
       "      <td>13.0</td>\n",
       "      <td>1057</td>\n",
       "    </tr>\n",
       "    <tr>\n",
       "      <th>4</th>\n",
       "      <td>1000002</td>\n",
       "      <td>P00285442</td>\n",
       "      <td>M</td>\n",
       "      <td>55+</td>\n",
       "      <td>16</td>\n",
       "      <td>C</td>\n",
       "      <td>4+</td>\n",
       "      <td>0</td>\n",
       "      <td>8</td>\n",
       "      <td>10.0</td>\n",
       "      <td>13.0</td>\n",
       "      <td>7969</td>\n",
       "    </tr>\n",
       "  </tbody>\n",
       "</table>\n",
       "</div>"
      ],
      "text/plain": [
       "   User_ID Product_ID Gender   Age  Occupation City_Category  \\\n",
       "0  1000001  P00069042      F  0-17          10             A   \n",
       "1  1000001  P00248942      F  0-17          10             A   \n",
       "2  1000001  P00087842      F  0-17          10             A   \n",
       "3  1000001  P00085442      F  0-17          10             A   \n",
       "4  1000002  P00285442      M   55+          16             C   \n",
       "\n",
       "  Stay_In_Current_City_Years  Marital_Status  Product_Category_1  \\\n",
       "0                          2               0                   3   \n",
       "1                          2               0                   1   \n",
       "2                          2               0                  12   \n",
       "3                          2               0                  12   \n",
       "4                         4+               0                   8   \n",
       "\n",
       "  Product_Category_2 Product_Category_3  Purchase  \n",
       "0               10.0               13.0      8370  \n",
       "1                6.0               14.0     15200  \n",
       "2               10.0               13.0      1422  \n",
       "3               14.0               13.0      1057  \n",
       "4               10.0               13.0      7969  "
      ]
     },
     "execution_count": 22,
     "metadata": {},
     "output_type": "execute_result"
    }
   ],
   "source": [
    "original.head()"
   ]
  },
  {
   "cell_type": "code",
   "execution_count": 23,
   "metadata": {},
   "outputs": [
    {
     "data": {
      "text/plain": [
       "User_ID                       object\n",
       "Product_ID                    object\n",
       "Gender                        object\n",
       "Age                           object\n",
       "Occupation                     int64\n",
       "City_Category                 object\n",
       "Stay_In_Current_City_Years    object\n",
       "Marital_Status                 int64\n",
       "Product_Category_1             int64\n",
       "Product_Category_2            object\n",
       "Product_Category_3            object\n",
       "Purchase                       int64\n",
       "dtype: object"
      ]
     },
     "execution_count": 23,
     "metadata": {},
     "output_type": "execute_result"
    }
   ],
   "source": [
    "original.dtypes"
   ]
  },
  {
   "cell_type": "code",
   "execution_count": 24,
   "metadata": {},
   "outputs": [
    {
     "data": {
      "text/html": [
       "<div>\n",
       "<style scoped>\n",
       "    .dataframe tbody tr th:only-of-type {\n",
       "        vertical-align: middle;\n",
       "    }\n",
       "\n",
       "    .dataframe tbody tr th {\n",
       "        vertical-align: top;\n",
       "    }\n",
       "\n",
       "    .dataframe thead th {\n",
       "        text-align: right;\n",
       "    }\n",
       "</style>\n",
       "<table border=\"1\" class=\"dataframe\">\n",
       "  <thead>\n",
       "    <tr style=\"text-align: right;\">\n",
       "      <th></th>\n",
       "      <th>Gender</th>\n",
       "      <th>Occupation</th>\n",
       "      <th>Age</th>\n",
       "      <th>City_Category</th>\n",
       "      <th>Stay_In_Current_City_Years</th>\n",
       "      <th>Marital_Status</th>\n",
       "      <th>Product_Category_1</th>\n",
       "      <th>Purchase</th>\n",
       "    </tr>\n",
       "  </thead>\n",
       "  <tbody>\n",
       "    <tr>\n",
       "      <th>0</th>\n",
       "      <td>F</td>\n",
       "      <td>10</td>\n",
       "      <td>0-17</td>\n",
       "      <td>A</td>\n",
       "      <td>2</td>\n",
       "      <td>0</td>\n",
       "      <td>3</td>\n",
       "      <td>8370</td>\n",
       "    </tr>\n",
       "    <tr>\n",
       "      <th>1</th>\n",
       "      <td>F</td>\n",
       "      <td>10</td>\n",
       "      <td>0-17</td>\n",
       "      <td>A</td>\n",
       "      <td>2</td>\n",
       "      <td>0</td>\n",
       "      <td>1</td>\n",
       "      <td>15200</td>\n",
       "    </tr>\n",
       "    <tr>\n",
       "      <th>2</th>\n",
       "      <td>F</td>\n",
       "      <td>10</td>\n",
       "      <td>0-17</td>\n",
       "      <td>A</td>\n",
       "      <td>2</td>\n",
       "      <td>0</td>\n",
       "      <td>12</td>\n",
       "      <td>1422</td>\n",
       "    </tr>\n",
       "    <tr>\n",
       "      <th>3</th>\n",
       "      <td>F</td>\n",
       "      <td>10</td>\n",
       "      <td>0-17</td>\n",
       "      <td>A</td>\n",
       "      <td>2</td>\n",
       "      <td>0</td>\n",
       "      <td>12</td>\n",
       "      <td>1057</td>\n",
       "    </tr>\n",
       "    <tr>\n",
       "      <th>4</th>\n",
       "      <td>M</td>\n",
       "      <td>16</td>\n",
       "      <td>55+</td>\n",
       "      <td>C</td>\n",
       "      <td>4+</td>\n",
       "      <td>0</td>\n",
       "      <td>8</td>\n",
       "      <td>7969</td>\n",
       "    </tr>\n",
       "  </tbody>\n",
       "</table>\n",
       "</div>"
      ],
      "text/plain": [
       "  Gender  Occupation   Age City_Category Stay_In_Current_City_Years  \\\n",
       "0      F          10  0-17             A                          2   \n",
       "1      F          10  0-17             A                          2   \n",
       "2      F          10  0-17             A                          2   \n",
       "3      F          10  0-17             A                          2   \n",
       "4      M          16   55+             C                         4+   \n",
       "\n",
       "   Marital_Status  Product_Category_1  Purchase  \n",
       "0               0                   3      8370  \n",
       "1               0                   1     15200  \n",
       "2               0                  12      1422  \n",
       "3               0                  12      1057  \n",
       "4               0                   8      7969  "
      ]
     },
     "execution_count": 24,
     "metadata": {},
     "output_type": "execute_result"
    }
   ],
   "source": [
    "data=original.loc[:,['Gender','Occupation','Age','City_Category','Stay_In_Current_City_Years',\n",
    "                    'Marital_Status','Product_Category_1','Purchase']]\n",
    "data.head()"
   ]
  },
  {
   "cell_type": "code",
   "execution_count": 26,
   "metadata": {},
   "outputs": [],
   "source": [
    "predata=data.sample(n=10000)"
   ]
  },
  {
   "cell_type": "code",
   "execution_count": 27,
   "metadata": {},
   "outputs": [
    {
     "data": {
      "text/html": [
       "<div>\n",
       "<style scoped>\n",
       "    .dataframe tbody tr th:only-of-type {\n",
       "        vertical-align: middle;\n",
       "    }\n",
       "\n",
       "    .dataframe tbody tr th {\n",
       "        vertical-align: top;\n",
       "    }\n",
       "\n",
       "    .dataframe thead th {\n",
       "        text-align: right;\n",
       "    }\n",
       "</style>\n",
       "<table border=\"1\" class=\"dataframe\">\n",
       "  <thead>\n",
       "    <tr style=\"text-align: right;\">\n",
       "      <th></th>\n",
       "      <th>Gender</th>\n",
       "      <th>Occupation</th>\n",
       "      <th>Age</th>\n",
       "      <th>City_Category</th>\n",
       "      <th>Stay_In_Current_City_Years</th>\n",
       "      <th>Marital_Status</th>\n",
       "      <th>Product_Category_1</th>\n",
       "      <th>Purchase</th>\n",
       "    </tr>\n",
       "  </thead>\n",
       "  <tbody>\n",
       "    <tr>\n",
       "      <th>92789</th>\n",
       "      <td>F</td>\n",
       "      <td>3</td>\n",
       "      <td>36-45</td>\n",
       "      <td>B</td>\n",
       "      <td>2</td>\n",
       "      <td>1</td>\n",
       "      <td>8</td>\n",
       "      <td>6177</td>\n",
       "    </tr>\n",
       "    <tr>\n",
       "      <th>287621</th>\n",
       "      <td>F</td>\n",
       "      <td>3</td>\n",
       "      <td>36-45</td>\n",
       "      <td>B</td>\n",
       "      <td>2</td>\n",
       "      <td>1</td>\n",
       "      <td>5</td>\n",
       "      <td>8634</td>\n",
       "    </tr>\n",
       "    <tr>\n",
       "      <th>292467</th>\n",
       "      <td>M</td>\n",
       "      <td>6</td>\n",
       "      <td>51-55</td>\n",
       "      <td>B</td>\n",
       "      <td>1</td>\n",
       "      <td>1</td>\n",
       "      <td>1</td>\n",
       "      <td>11828</td>\n",
       "    </tr>\n",
       "    <tr>\n",
       "      <th>110718</th>\n",
       "      <td>M</td>\n",
       "      <td>16</td>\n",
       "      <td>36-45</td>\n",
       "      <td>C</td>\n",
       "      <td>2</td>\n",
       "      <td>1</td>\n",
       "      <td>1</td>\n",
       "      <td>19565</td>\n",
       "    </tr>\n",
       "    <tr>\n",
       "      <th>307772</th>\n",
       "      <td>F</td>\n",
       "      <td>17</td>\n",
       "      <td>36-45</td>\n",
       "      <td>B</td>\n",
       "      <td>3</td>\n",
       "      <td>1</td>\n",
       "      <td>1</td>\n",
       "      <td>8217</td>\n",
       "    </tr>\n",
       "  </tbody>\n",
       "</table>\n",
       "</div>"
      ],
      "text/plain": [
       "       Gender  Occupation    Age City_Category Stay_In_Current_City_Years  \\\n",
       "92789       F           3  36-45             B                          2   \n",
       "287621      F           3  36-45             B                          2   \n",
       "292467      M           6  51-55             B                          1   \n",
       "110718      M          16  36-45             C                          2   \n",
       "307772      F          17  36-45             B                          3   \n",
       "\n",
       "        Marital_Status  Product_Category_1  Purchase  \n",
       "92789                1                   8      6177  \n",
       "287621               1                   5      8634  \n",
       "292467               1                   1     11828  \n",
       "110718               1                   1     19565  \n",
       "307772               1                   1      8217  "
      ]
     },
     "execution_count": 27,
     "metadata": {},
     "output_type": "execute_result"
    }
   ],
   "source": [
    "predata.head()"
   ]
  },
  {
   "cell_type": "code",
   "execution_count": 29,
   "metadata": {},
   "outputs": [],
   "source": [
    "for i in range(predata.index.shape[0]):\n",
    "    if predata.iloc[i,0]=='F':\n",
    "        predata.iloc[i,0]=0\n",
    "    else:\n",
    "        predata.iloc[i,0]=1"
   ]
  },
  {
   "cell_type": "code",
   "execution_count": 31,
   "metadata": {},
   "outputs": [
    {
     "data": {
      "text/plain": [
       "array(['36-45', '51-55', '26-35', '18-25', '46-50', '55+', '0-17'],\n",
       "      dtype=object)"
      ]
     },
     "execution_count": 31,
     "metadata": {},
     "output_type": "execute_result"
    }
   ],
   "source": [
    "predata['Age'].unique()"
   ]
  },
  {
   "cell_type": "code",
   "execution_count": 32,
   "metadata": {},
   "outputs": [],
   "source": [
    "for i in range(predata.index.shape[0]):\n",
    "    if predata.iloc[i,2]=='0-17':\n",
    "        predata.iloc[i,2]=0\n",
    "    elif predata.iloc[i,2]=='18-25':\n",
    "        predata.iloc[i,2]=1\n",
    "    elif predata.iloc[i,2]=='26-35':\n",
    "        predata.iloc[i,2]=2\n",
    "    elif predata.iloc[i,2]=='36-45':\n",
    "        predata.iloc[i,2]=3\n",
    "    elif predata.iloc[i,2]=='46-50':\n",
    "        predata.iloc[i,2]=4\n",
    "    elif predata.iloc[i,2]=='51-55':\n",
    "        predata.iloc[i,2]=5\n",
    "    else:\n",
    "        predata.iloc[i,2]=6"
   ]
  },
  {
   "cell_type": "code",
   "execution_count": 34,
   "metadata": {},
   "outputs": [
    {
     "data": {
      "text/plain": [
       "array(['B', 'C', 'A'], dtype=object)"
      ]
     },
     "execution_count": 34,
     "metadata": {},
     "output_type": "execute_result"
    }
   ],
   "source": [
    "predata['City_Category'].unique()"
   ]
  },
  {
   "cell_type": "code",
   "execution_count": 35,
   "metadata": {},
   "outputs": [],
   "source": [
    "for i in range(predata.index.shape[0]):\n",
    "    if predata.iloc[i,3]=='A':\n",
    "        predata.iloc[i,3]=0\n",
    "    elif predata.iloc[i,3]=='B':\n",
    "        predata.iloc[i,3]=1\n",
    "    else:\n",
    "        predata.iloc[i,3]=2"
   ]
  },
  {
   "cell_type": "code",
   "execution_count": 36,
   "metadata": {},
   "outputs": [
    {
     "data": {
      "text/plain": [
       "array(['2', '1', '3', '4+', '0'], dtype=object)"
      ]
     },
     "execution_count": 36,
     "metadata": {},
     "output_type": "execute_result"
    }
   ],
   "source": [
    "predata['Stay_In_Current_City_Years'].unique()"
   ]
  },
  {
   "cell_type": "code",
   "execution_count": 37,
   "metadata": {},
   "outputs": [],
   "source": [
    "for i in range(predata.index.shape[0]):\n",
    "    if predata.iloc[i,4]=='4+':\n",
    "        predata.iloc[i,4]=5"
   ]
  },
  {
   "cell_type": "code",
   "execution_count": 39,
   "metadata": {},
   "outputs": [
    {
     "name": "stdout",
     "output_type": "stream",
     "text": [
      "        Gender  Occupation  Age  City_Category Stay_In_Current_City_Years  \\\n",
      "92789        0           3    3              1                          2   \n",
      "287621       0           3    3              1                          2   \n",
      "292467       1           6    5              1                          1   \n",
      "110718       1          16    3              2                          2   \n",
      "307772       0          17    3              1                          3   \n",
      "\n",
      "        Marital_Status  Product_Category_1  Purchase  \n",
      "92789                1                   8      6177  \n",
      "287621               1                   5      8634  \n",
      "292467               1                   1     11828  \n",
      "110718               1                   1     19565  \n",
      "307772               1                   1      8217  \n",
      "Gender                         int64\n",
      "Occupation                     int64\n",
      "Age                            int64\n",
      "City_Category                  int64\n",
      "Stay_In_Current_City_Years    object\n",
      "Marital_Status                 int64\n",
      "Product_Category_1             int64\n",
      "Purchase                       int64\n",
      "dtype: object\n"
     ]
    }
   ],
   "source": [
    "print(predata.head())\n",
    "print(predata.dtypes)"
   ]
  },
  {
   "cell_type": "code",
   "execution_count": 40,
   "metadata": {},
   "outputs": [],
   "source": [
    "predata['Stay_In_Current_City_Years']=predata['Stay_In_Current_City_Years'].astype('int64')"
   ]
  },
  {
   "cell_type": "markdown",
   "metadata": {},
   "source": [
    "## Correlation analysis--Pearson coefficient matrix"
   ]
  },
  {
   "cell_type": "code",
   "execution_count": 42,
   "metadata": {},
   "outputs": [
    {
     "data": {
      "text/html": [
       "<div>\n",
       "<style scoped>\n",
       "    .dataframe tbody tr th:only-of-type {\n",
       "        vertical-align: middle;\n",
       "    }\n",
       "\n",
       "    .dataframe tbody tr th {\n",
       "        vertical-align: top;\n",
       "    }\n",
       "\n",
       "    .dataframe thead th {\n",
       "        text-align: right;\n",
       "    }\n",
       "</style>\n",
       "<table border=\"1\" class=\"dataframe\">\n",
       "  <thead>\n",
       "    <tr style=\"text-align: right;\">\n",
       "      <th></th>\n",
       "      <th>Gender</th>\n",
       "      <th>Occupation</th>\n",
       "      <th>Age</th>\n",
       "      <th>City_Category</th>\n",
       "      <th>Stay_In_Current_City_Years</th>\n",
       "      <th>Marital_Status</th>\n",
       "      <th>Product_Category_1</th>\n",
       "      <th>Purchase</th>\n",
       "    </tr>\n",
       "  </thead>\n",
       "  <tbody>\n",
       "    <tr>\n",
       "      <th>Purchase</th>\n",
       "      <td>0.060558</td>\n",
       "      <td>0.017502</td>\n",
       "      <td>0.026158</td>\n",
       "      <td>0.068759</td>\n",
       "      <td>0.012816</td>\n",
       "      <td>0.013979</td>\n",
       "      <td>-0.313609</td>\n",
       "      <td>1.000000</td>\n",
       "    </tr>\n",
       "    <tr>\n",
       "      <th>City_Category</th>\n",
       "      <td>-0.013167</td>\n",
       "      <td>0.040760</td>\n",
       "      <td>0.113984</td>\n",
       "      <td>1.000000</td>\n",
       "      <td>0.027864</td>\n",
       "      <td>0.036873</td>\n",
       "      <td>-0.026383</td>\n",
       "      <td>0.068759</td>\n",
       "    </tr>\n",
       "    <tr>\n",
       "      <th>Gender</th>\n",
       "      <td>1.000000</td>\n",
       "      <td>0.105297</td>\n",
       "      <td>0.004126</td>\n",
       "      <td>-0.013167</td>\n",
       "      <td>0.033495</td>\n",
       "      <td>-0.006141</td>\n",
       "      <td>-0.067609</td>\n",
       "      <td>0.060558</td>\n",
       "    </tr>\n",
       "    <tr>\n",
       "      <th>Age</th>\n",
       "      <td>0.004126</td>\n",
       "      <td>0.101514</td>\n",
       "      <td>1.000000</td>\n",
       "      <td>0.113984</td>\n",
       "      <td>0.016688</td>\n",
       "      <td>0.316599</td>\n",
       "      <td>0.061292</td>\n",
       "      <td>0.026158</td>\n",
       "    </tr>\n",
       "    <tr>\n",
       "      <th>Occupation</th>\n",
       "      <td>0.105297</td>\n",
       "      <td>1.000000</td>\n",
       "      <td>0.101514</td>\n",
       "      <td>0.040760</td>\n",
       "      <td>0.049027</td>\n",
       "      <td>0.031170</td>\n",
       "      <td>-0.002349</td>\n",
       "      <td>0.017502</td>\n",
       "    </tr>\n",
       "    <tr>\n",
       "      <th>Marital_Status</th>\n",
       "      <td>-0.006141</td>\n",
       "      <td>0.031170</td>\n",
       "      <td>0.316599</td>\n",
       "      <td>0.036873</td>\n",
       "      <td>-0.009491</td>\n",
       "      <td>1.000000</td>\n",
       "      <td>0.024387</td>\n",
       "      <td>0.013979</td>\n",
       "    </tr>\n",
       "    <tr>\n",
       "      <th>Stay_In_Current_City_Years</th>\n",
       "      <td>0.033495</td>\n",
       "      <td>0.049027</td>\n",
       "      <td>0.016688</td>\n",
       "      <td>0.027864</td>\n",
       "      <td>1.000000</td>\n",
       "      <td>-0.009491</td>\n",
       "      <td>-0.004179</td>\n",
       "      <td>0.012816</td>\n",
       "    </tr>\n",
       "    <tr>\n",
       "      <th>Product_Category_1</th>\n",
       "      <td>-0.067609</td>\n",
       "      <td>-0.002349</td>\n",
       "      <td>0.061292</td>\n",
       "      <td>-0.026383</td>\n",
       "      <td>-0.004179</td>\n",
       "      <td>0.024387</td>\n",
       "      <td>1.000000</td>\n",
       "      <td>-0.313609</td>\n",
       "    </tr>\n",
       "  </tbody>\n",
       "</table>\n",
       "</div>"
      ],
      "text/plain": [
       "                              Gender  Occupation       Age  City_Category  \\\n",
       "Purchase                    0.060558    0.017502  0.026158       0.068759   \n",
       "City_Category              -0.013167    0.040760  0.113984       1.000000   \n",
       "Gender                      1.000000    0.105297  0.004126      -0.013167   \n",
       "Age                         0.004126    0.101514  1.000000       0.113984   \n",
       "Occupation                  0.105297    1.000000  0.101514       0.040760   \n",
       "Marital_Status             -0.006141    0.031170  0.316599       0.036873   \n",
       "Stay_In_Current_City_Years  0.033495    0.049027  0.016688       0.027864   \n",
       "Product_Category_1         -0.067609   -0.002349  0.061292      -0.026383   \n",
       "\n",
       "                            Stay_In_Current_City_Years  Marital_Status  \\\n",
       "Purchase                                      0.012816        0.013979   \n",
       "City_Category                                 0.027864        0.036873   \n",
       "Gender                                        0.033495       -0.006141   \n",
       "Age                                           0.016688        0.316599   \n",
       "Occupation                                    0.049027        0.031170   \n",
       "Marital_Status                               -0.009491        1.000000   \n",
       "Stay_In_Current_City_Years                    1.000000       -0.009491   \n",
       "Product_Category_1                           -0.004179        0.024387   \n",
       "\n",
       "                            Product_Category_1  Purchase  \n",
       "Purchase                             -0.313609  1.000000  \n",
       "City_Category                        -0.026383  0.068759  \n",
       "Gender                               -0.067609  0.060558  \n",
       "Age                                   0.061292  0.026158  \n",
       "Occupation                           -0.002349  0.017502  \n",
       "Marital_Status                        0.024387  0.013979  \n",
       "Stay_In_Current_City_Years           -0.004179  0.012816  \n",
       "Product_Category_1                    1.000000 -0.313609  "
      ]
     },
     "execution_count": 42,
     "metadata": {},
     "output_type": "execute_result"
    }
   ],
   "source": [
    "pm=pd.DataFrame(predata.corr(method='pearson'))\n",
    "pm.sort_values(by='Purchase',ascending=False)"
   ]
  },
  {
   "cell_type": "markdown",
   "metadata": {},
   "source": [
    "### Summary\n",
    "\n",
    "- The correlation coefficient is normally small\n",
    "\n",
    "\n",
    "- The correlation between purchase and other features is weak\n",
    "\n",
    "\n",
    "With using Pearson coefficient,finding that the correlation between every features is weak,\n",
    "\n",
    "If use choosing features to train models,may not be very well\n",
    "\n",
    "So choosing other method may be better,\n",
    "\n",
    "below this,will do principal component analysis.\n",
    "\n",
    "To find the best number of n_components,\n",
    "\n",
    "and use pca data to train models."
   ]
  },
  {
   "cell_type": "markdown",
   "metadata": {},
   "source": [
    "## Principal Component Analysis"
   ]
  },
  {
   "cell_type": "code",
   "execution_count": 44,
   "metadata": {},
   "outputs": [
    {
     "data": {
      "text/html": [
       "<div>\n",
       "<style scoped>\n",
       "    .dataframe tbody tr th:only-of-type {\n",
       "        vertical-align: middle;\n",
       "    }\n",
       "\n",
       "    .dataframe tbody tr th {\n",
       "        vertical-align: top;\n",
       "    }\n",
       "\n",
       "    .dataframe thead th {\n",
       "        text-align: right;\n",
       "    }\n",
       "</style>\n",
       "<table border=\"1\" class=\"dataframe\">\n",
       "  <thead>\n",
       "    <tr style=\"text-align: right;\">\n",
       "      <th></th>\n",
       "      <th>Gender</th>\n",
       "      <th>Occupation</th>\n",
       "      <th>Age</th>\n",
       "      <th>City_Category</th>\n",
       "      <th>Stay_In_Current_City_Years</th>\n",
       "      <th>Marital_Status</th>\n",
       "      <th>Product_Category_1</th>\n",
       "    </tr>\n",
       "  </thead>\n",
       "  <tbody>\n",
       "    <tr>\n",
       "      <th>92789</th>\n",
       "      <td>0</td>\n",
       "      <td>3</td>\n",
       "      <td>3</td>\n",
       "      <td>1</td>\n",
       "      <td>2</td>\n",
       "      <td>1</td>\n",
       "      <td>8</td>\n",
       "    </tr>\n",
       "    <tr>\n",
       "      <th>287621</th>\n",
       "      <td>0</td>\n",
       "      <td>3</td>\n",
       "      <td>3</td>\n",
       "      <td>1</td>\n",
       "      <td>2</td>\n",
       "      <td>1</td>\n",
       "      <td>5</td>\n",
       "    </tr>\n",
       "    <tr>\n",
       "      <th>292467</th>\n",
       "      <td>1</td>\n",
       "      <td>6</td>\n",
       "      <td>5</td>\n",
       "      <td>1</td>\n",
       "      <td>1</td>\n",
       "      <td>1</td>\n",
       "      <td>1</td>\n",
       "    </tr>\n",
       "    <tr>\n",
       "      <th>110718</th>\n",
       "      <td>1</td>\n",
       "      <td>16</td>\n",
       "      <td>3</td>\n",
       "      <td>2</td>\n",
       "      <td>2</td>\n",
       "      <td>1</td>\n",
       "      <td>1</td>\n",
       "    </tr>\n",
       "    <tr>\n",
       "      <th>307772</th>\n",
       "      <td>0</td>\n",
       "      <td>17</td>\n",
       "      <td>3</td>\n",
       "      <td>1</td>\n",
       "      <td>3</td>\n",
       "      <td>1</td>\n",
       "      <td>1</td>\n",
       "    </tr>\n",
       "  </tbody>\n",
       "</table>\n",
       "</div>"
      ],
      "text/plain": [
       "        Gender  Occupation  Age  City_Category  Stay_In_Current_City_Years  \\\n",
       "92789        0           3    3              1                           2   \n",
       "287621       0           3    3              1                           2   \n",
       "292467       1           6    5              1                           1   \n",
       "110718       1          16    3              2                           2   \n",
       "307772       0          17    3              1                           3   \n",
       "\n",
       "        Marital_Status  Product_Category_1  \n",
       "92789                1                   8  \n",
       "287621               1                   5  \n",
       "292467               1                   1  \n",
       "110718               1                   1  \n",
       "307772               1                   1  "
      ]
     },
     "execution_count": 44,
     "metadata": {},
     "output_type": "execute_result"
    }
   ],
   "source": [
    "data=predata.iloc[:,0:7]\n",
    "target=predata.loc[:,'Purchase']\n",
    "data.head()"
   ]
  },
  {
   "cell_type": "code",
   "execution_count": 47,
   "metadata": {},
   "outputs": [
    {
     "name": "stdout",
     "output_type": "stream",
     "text": [
      "[0.68747874 0.22838372 0.03910001 0.02968142 0.00899177 0.0034424\n",
      " 0.00292194]\n"
     ]
    }
   ],
   "source": [
    "pcamodel=PCA(n_components=7).fit(data)\n",
    "print(pcamodel.explained_variance_ratio_)"
   ]
  },
  {
   "cell_type": "code",
   "execution_count": 48,
   "metadata": {},
   "outputs": [],
   "source": [
    "pcaModel=PCA(n_components=2).fit(data)\n",
    "pcaData=pcaModel.transform(data)"
   ]
  },
  {
   "cell_type": "markdown",
   "metadata": {},
   "source": [
    "### Summary\n",
    "\n",
    "With using sklearn.decomposition.PCA,\n",
    "\n",
    "and finding explained variance ratio,\n",
    "\n",
    "find the best number of n_components is 2.\n",
    "\n",
    "So using n_components=2 to fit the data and transform,\n",
    "\n",
    "and using this data to train models."
   ]
  },
  {
   "cell_type": "markdown",
   "metadata": {},
   "source": [
    "## Predict--GradientBoostingRegressor"
   ]
  },
  {
   "cell_type": "code",
   "execution_count": 50,
   "metadata": {},
   "outputs": [
    {
     "name": "stderr",
     "output_type": "stream",
     "text": [
      "c:\\users\\az11438\\appdata\\local\\programs\\python\\python37-32\\lib\\site-packages\\sklearn\\model_selection\\_split.py:2179: FutureWarning: From version 0.21, test_size will always complement train_size unless both are specified.\n",
      "  FutureWarning)\n"
     ]
    }
   ],
   "source": [
    "train_pca_data,test_pca_data, \\\n",
    "train_pca_target,test_pca_target = \\\n",
    "train_test_split(pcaData,target,train_size=0.6)"
   ]
  },
  {
   "cell_type": "code",
   "execution_count": 84,
   "metadata": {},
   "outputs": [],
   "source": [
    "pcaGBR=GradientBoostingRegressor(learning_rate=0.2).fit(train_pca_data,train_pca_target)"
   ]
  },
  {
   "cell_type": "code",
   "execution_count": 85,
   "metadata": {},
   "outputs": [
    {
     "data": {
      "text/plain": [
       "GradientBoostingRegressor(alpha=0.9, criterion='friedman_mse', init=None,\n",
       "             learning_rate=0.2, loss='ls', max_depth=3, max_features=None,\n",
       "             max_leaf_nodes=None, min_impurity_decrease=0.0,\n",
       "             min_impurity_split=None, min_samples_leaf=1,\n",
       "             min_samples_split=2, min_weight_fraction_leaf=0.0,\n",
       "             n_estimators=100, n_iter_no_change=None, presort='auto',\n",
       "             random_state=None, subsample=1.0, tol=0.0001,\n",
       "             validation_fraction=0.1, verbose=0, warm_start=False)"
      ]
     },
     "execution_count": 85,
     "metadata": {},
     "output_type": "execute_result"
    }
   ],
   "source": [
    "pcaGBR"
   ]
  },
  {
   "cell_type": "code",
   "execution_count": 86,
   "metadata": {},
   "outputs": [
    {
     "name": "stdout",
     "output_type": "stream",
     "text": [
      "mean_absolute_error:2116.45\n",
      "mean_squared_error:7636294.21\n",
      "r2_score:0.69\n"
     ]
    }
   ],
   "source": [
    "pcaGBRpre=pcaGBR.predict(train_pca_data)\n",
    "print('mean_absolute_error:%1.2f'%mean_absolute_error(train_pca_target,pcaGBRpre))\n",
    "print('mean_squared_error:%1.2f'%mean_squared_error(train_pca_target,pcaGBRpre))\n",
    "print('r2_score:%1.2f'%(r2_score(train_pca_target,pcaGBRpre)))"
   ]
  },
  {
   "cell_type": "code",
   "execution_count": 87,
   "metadata": {},
   "outputs": [
    {
     "name": "stdout",
     "output_type": "stream",
     "text": [
      "mean_absolute_error:2326.67\n",
      "mean_squared_error:9406073.08\n",
      "r2_score:0.62\n"
     ]
    }
   ],
   "source": [
    "pcaGBRpredict=pcaGBR.predict(test_pca_data)\n",
    "print('mean_absolute_error:%1.2f'%mean_absolute_error(test_pca_target,pcaGBRpredict))\n",
    "print('mean_squared_error:%1.2f'%mean_squared_error(test_pca_target,pcaGBRpredict))\n",
    "print('r2_score:%1.2f'%r2_score(test_pca_target,pcaGBRpredict))"
   ]
  },
  {
   "cell_type": "markdown",
   "metadata": {},
   "source": [
    "## Predict--Decision Tree Regressor"
   ]
  },
  {
   "cell_type": "code",
   "execution_count": 139,
   "metadata": {},
   "outputs": [
    {
     "data": {
      "text/plain": [
       "DecisionTreeRegressor(criterion='mse', max_depth=7, max_features=None,\n",
       "           max_leaf_nodes=None, min_impurity_decrease=0.0,\n",
       "           min_impurity_split=None, min_samples_leaf=1,\n",
       "           min_samples_split=2, min_weight_fraction_leaf=0.0,\n",
       "           presort=False, random_state=None, splitter='best')"
      ]
     },
     "execution_count": 139,
     "metadata": {},
     "output_type": "execute_result"
    }
   ],
   "source": [
    "pcaDTR=DecisionTreeRegressor(max_depth=7).fit(train_pca_data,train_pca_target)\n",
    "pcaDTR"
   ]
  },
  {
   "cell_type": "code",
   "execution_count": 140,
   "metadata": {},
   "outputs": [
    {
     "name": "stdout",
     "output_type": "stream",
     "text": [
      "mean_absolute_error:2162.43\n",
      "mean_squared_error:8190132.96\n",
      "r2_score:0.67\n"
     ]
    }
   ],
   "source": [
    "pcaDTRpre=pcaDTR.predict(train_pca_data)\n",
    "print('mean_absolute_error:%1.2f'%mean_absolute_error(train_pca_target,pcaDTRpre))\n",
    "print('mean_squared_error:%1.2f'%mean_squared_error(train_pca_target,pcaDTRpre))\n",
    "print('r2_score:%1.2f'%(r2_score(train_pca_target,pcaDTRpre)))"
   ]
  },
  {
   "cell_type": "code",
   "execution_count": 141,
   "metadata": {},
   "outputs": [
    {
     "name": "stdout",
     "output_type": "stream",
     "text": [
      "mean_absolute_error:2355.55\n",
      "mean_squared_error:9740582.22\n",
      "r2_score:0.61\n"
     ]
    }
   ],
   "source": [
    "pcaDTRpredict=pcaDTR.predict(test_pca_data)\n",
    "print('mean_absolute_error:%1.2f'%mean_absolute_error(test_pca_target,pcaDTRpredict))\n",
    "print('mean_squared_error:%1.2f'%mean_squared_error(test_pca_target,pcaDTRpredict))\n",
    "print('r2_score:%1.2f'%r2_score(test_pca_target,pcaDTRpredict))"
   ]
  },
  {
   "cell_type": "markdown",
   "metadata": {},
   "source": [
    "### Summary\n",
    "\n",
    "- Two ways:Gradient Boosting Regressor and Decision Tree Regressor\n",
    "\n",
    "\n",
    "\n",
    "- Using Gradient Boosting Regressor with learning_rate=0.2,\n",
    "  \n",
    "  r2 score is well,and mean absolute error seems to be reasonable\n",
    "\n",
    "\n",
    "\n",
    "- Using Decision Tree Regressor with max_depth=7,\n",
    "\n",
    "  r2 socre is well,and mean absolute error seems to be reasonable\n",
    "\n",
    "\n",
    "\n",
    "- According to r2 score,Gradient Boosting Regressor may be better than Decision Tree Regressor\n",
    "\n",
    "\n",
    "\n",
    "- Using pca data seems to be fine"
   ]
  },
  {
   "cell_type": "code",
   "execution_count": null,
   "metadata": {},
   "outputs": [],
   "source": []
  }
 ],
 "metadata": {
  "kernelspec": {
   "display_name": "Python 3",
   "language": "python",
   "name": "python3"
  },
  "language_info": {
   "codemirror_mode": {
    "name": "ipython",
    "version": 3
   },
   "file_extension": ".py",
   "mimetype": "text/x-python",
   "name": "python",
   "nbconvert_exporter": "python",
   "pygments_lexer": "ipython3",
   "version": "3.7.1"
  }
 },
 "nbformat": 4,
 "nbformat_minor": 2
}
